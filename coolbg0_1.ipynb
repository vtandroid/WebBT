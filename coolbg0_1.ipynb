{
  "nbformat": 4,
  "nbformat_minor": 0,
  "metadata": {
    "colab": {
      "name": "coolbg0.1.ipynb",
      "provenance": [],
      "collapsed_sections": [],
      "include_colab_link": true
    },
    "kernelspec": {
      "name": "python3",
      "display_name": "Python 3"
    }
  },
  "cells": [
    {
      "cell_type": "markdown",
      "metadata": {
        "id": "view-in-github",
        "colab_type": "text"
      },
      "source": [
        "<a href=\"https://colab.research.google.com/github/vtandroid/WebBT/blob/master/coolbg0_1.ipynb\" target=\"_parent\"><img src=\"https://colab.research.google.com/assets/colab-badge.svg\" alt=\"Open In Colab\"/></a>"
      ]
    },
    {
      "cell_type": "code",
      "metadata": {
        "id": "Kiw29whdoUti"
      },
      "source": [
        "client_id = \"@@client_id\" #@param {type:\"raw\"}\n"
      ],
      "execution_count": null,
      "outputs": []
    },
    {
      "cell_type": "code",
      "metadata": {
        "id": "sz890Tr5xbbM"
      },
      "source": [
        "import requests\n",
        "MF_SERVER = \"http://api-magicframe.automusic.win/\"\n",
        "def get_req(path):\n",
        "  try:\n",
        "    requests.get(MF_SERVER + path)\n",
        "  except:\n",
        "    try:\n",
        "      requests.get(MF_SERVER + path)\n",
        "    except Exception as e:\n",
        "      print(str(e))\n",
        "      pass\n",
        "    pass\n",
        "get_req(\"client/type/\" + str(client_id)+\"/2\")"
      ],
      "execution_count": null,
      "outputs": []
    },
    {
      "cell_type": "code",
      "metadata": {
        "id": "S_rljsVCxbTt"
      },
      "source": [
        "!pip install moviepy==2.0.0.dev1\n",
        "!pip install gizeh\n",
        "!wget http://reupnet.info/tool/coolbg/magick\n",
        "!chmod 777 magick\n",
        "!cp -r magick /usr/bin/\n",
        "!mkdir -p /u02 && cd /u02 && rm -rf *.zip &&  wget http://reupnet.info/tool/gbak/drive_config.zip && unzip -o drive_config.zip\n",
        "!pip install gbak\n",
        "!pip install coolbg\n",
        "!pip install requests\n",
        "!pip install python-slugify\n",
        "import os \n",
        "os.environ[\"IMAGEMAGICK_BINARY\"] = \"/usr/bin/magick\"\n",
        "from PIL import Image\n",
        "import numpy as np\n",
        "import requests,time,json\n",
        "from moviepy.editor import *\n",
        "from bgeditor import BGEditor\n",
        "from bgeditor.common.utils import upload_file\n",
        "from slugify import slugify\n",
        "import ntpath\n",
        "get_req(\"client/type/\" + str(client_id)+\"/3\") #install done\n"
      ],
      "execution_count": null,
      "outputs": []
    },
    {
      "cell_type": "code",
      "metadata": {
        "id": "hySjkNDrz9tV"
      },
      "source": [
        "import traceback\n",
        "while True:\n",
        " \n",
        "  url_log=MF_SERVER+\"job/log\"\n",
        "  try:\n",
        "    try:\n",
        "      get_req(\"client/setw/\"+str(client_id)+\"/0\")\n",
        "      if \"restart-1\" in requests.get(MF_SERVER+\"client/check-restart/\"+str(client_id)).text:\n",
        "        print(\"Stop.. wait Restart\")\n",
        "        get_req(\"client/setw/\"+str(client_id)+\"/2\")\n",
        "        break\n",
        "      print(\"Get Job: \"+str(client_id))\n",
        "      obj=requests.get(MF_SERVER+\"job/get/client_id/\"+str(client_id)).json()\n",
        "      if obj and \"id\" in obj:\n",
        "        #start Job\n",
        "        name_vid=slugify(obj['name'])\n",
        "\n",
        "        os.system(\"rm -rf /tmp/download/*\")\n",
        "        os.system(\"rm -rf /tmp/coolbg_ffmpeg/*\")\n",
        "        os.system(\"rm -rf /tmp/results/*\")\n",
        "        get_req(\"client/setw/\"+str(client_id)+\"/1\")\n",
        "        list_comps= json.loads(obj['content'])\n",
        "        bgtool= BGEditor()\n",
        "        path_vid_orgi = bgtool.create_video_json(list_comps,obj['id'])\n",
        "        print(path_vid_orgi)\n",
        "        head_path, tail_path = ntpath.split(path_vid_orgi)\n",
        "        extension=tail_path.split(\".\")[1]\n",
        "        path_thumbnail=ntpath.join(head_path,name_vid+\"-thumb.jpg\")\n",
        "        path_vid=ntpath.join(head_path,name_vid+\"-video.\"+extension)\n",
        "        os.rename(path_vid_orgi,path_vid)\n",
        "        \n",
        "        vid_done=VideoFileClip(path_vid, audio=False)\n",
        "        vid_done.save_frame(path_thumbnail,t=obj['thumbnail_seconds'])\n",
        "        vid_done.close()\n",
        "        file_id= upload_file(path_vid)\n",
        "        file_id_thumbnail=upload_file(path_thumbnail)\n",
        "        print(file_id)\n",
        "        bgtool.close()\n",
        "        data_post={\"id\":obj['id'],\"client_id\":str(client_id),\"success\":1, \"log\": \"done\", \"result\":file_id+\";;\"+file_id_thumbnail}\n",
        "        requests.post(url_log, data = data_post)\n",
        "      else:\n",
        "        print(\"No Job!!!!!\")\n",
        "        time.sleep(10)\n",
        "\n",
        "    except Exception as e:\n",
        "      if obj and \"id\" in obj: \n",
        "        data_post={\"id\":obj['id'],\"client_id\":str(client_id),\"success\":\"0\", \"log\": traceback.format_exc()}\n",
        "        requests.post(url_log, data = data_post)\n",
        "      time.sleep(5)\n",
        "      pass\n",
        "\n",
        "  except Exception as e2:\n",
        "    print(str(e2))\n",
        "    time.sleep(10)\n",
        "    pass"
      ],
      "execution_count": null,
      "outputs": []
    }
  ]
}